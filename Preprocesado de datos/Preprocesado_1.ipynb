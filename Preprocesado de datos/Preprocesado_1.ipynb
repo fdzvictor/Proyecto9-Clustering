{
 "cells": [
  {
   "cell_type": "code",
   "execution_count": null,
   "metadata": {},
   "outputs": [],
   "source": [
    "import pandas as pd\n",
    "import numpy as np\n",
    "from src import soporte_clustering as s_clustering, soporte_eda_y_outliers as s_eda, soporte_encoding as s_encoding, soporte_tests_y_encoding as s_tests, soporte_scaling as s_estandarizacion\n",
    "\n",
    "import seaborn as sns\n",
    "import matplotlib.pyplot as plt \n",
    "import math\n",
    "\n"
   ]
  },
  {
   "cell_type": "code",
   "execution_count": null,
   "metadata": {},
   "outputs": [],
   "source": [
    "df = pd.read_pickle(\"datos/df_investigado\")\n",
    "df_ventas = df[[\"Order_Date\",\"Ship_Date\",\"Ship_Mode\",\"Segment\",\"Market\",\"Sub-Category\",\"Product_Name\",\"Sales\",\"Quantity\",\"Discount\",\"Profit\",\"Shipping_Cost\",\"Order_Priority\"]]"
   ]
  },
  {
   "cell_type": "markdown",
   "metadata": {},
   "source": [
    "# Encoding\n",
    "Para realizar el encoding aplicaremos encoding de orden a ship_mode, order_priority y discount. Nuestra variable respuesta será sales."
   ]
  },
  {
   "cell_type": "code",
   "execution_count": null,
   "metadata": {},
   "outputs": [],
   "source": [
    "df_limpio = df_ventas.copy()\n",
    "cols_cat = df_limpio.select_dtypes(include= \"O\").columns\n",
    "cols_cat = cols_cat.tolist()\n",
    "\n",
    "\n",
    "\n",
    "from category_encoders import TargetEncoder\n",
    "\n",
    "# Función para aplicar Target Encoding a múltiples columnas\n",
    "def target_encoding_multiple(df, columns, target_column):\n",
    "    # Iterar sobre las columnas especificadas\n",
    "    for column in columns:\n",
    "        encoder = TargetEncoder(cols=[column])\n",
    "        df[f'{column}_target'] = encoder.fit_transform(df[column], df[target_column])\n",
    "    return df\n",
    "\n",
    "\n",
    "# Aplicar Target Encoding\n",
    "df_encoded = target_encoding_multiple(df_limpio, cols_cat, target_column=\"Sales\")\n",
    "\n",
    "# Mostrar el DataFrame resultante\n",
    "df_encoded.head()\n"
   ]
  },
  {
   "cell_type": "code",
   "execution_count": null,
   "metadata": {},
   "outputs": [],
   "source": [
    "df_limpio = df_ventas.copy()\n",
    "cols_cat = df_limpio.select_dtypes(include= \"O\").columns\n",
    "cols_cat = cols_cat.tolist()\n",
    "\n",
    "\n",
    "\n",
    "from category_encoders import TargetEncoder\n",
    "\n",
    "# Función para aplicar Target Encoding a múltiples columnas\n",
    "def target_encoding_multiple(df, columns, target_column):\n",
    "    # Iterar sobre las columnas especificadas\n",
    "    for column in columns:\n",
    "        encoder = TargetEncoder(cols=[column])\n",
    "        df[f'{column}_target'] = encoder.fit_transform(df[column], df[target_column])\n",
    "    return df\n",
    "\n",
    "\n",
    "# Aplicar Target Encoding\n",
    "df_encoded = target_encoding_multiple(df_limpio, cols_cat, target_column=\"Sales\")\n",
    "\n",
    "# Mostrar el DataFrame resultante\n",
    "df_encoded.head()\n"
   ]
  },
  {
   "cell_type": "code",
   "execution_count": null,
   "metadata": {},
   "outputs": [],
   "source": [
    "df_encoded.drop(columns = cols_cat, inplace = True)\n",
    "\n",
    "df_encoded[\"Order_Date\"] = df_encoded[\"Order_Date\"].map(pd.Timestamp.toordinal).astype(int)\n",
    "df_encoded[\"Ship_Date\"] = df_encoded[\"Ship_Date\"].map(pd.Timestamp.toordinal).astype(int)\n",
    "df_encoded.head()"
   ]
  },
  {
   "cell_type": "markdown",
   "metadata": {},
   "source": [
    "# Scaling"
   ]
  },
  {
   "cell_type": "code",
   "execution_count": null,
   "metadata": {},
   "outputs": [],
   "source": [
    "from sklearn.preprocessing import StandardScaler\n",
    "scaler = StandardScaler()\n",
    "scaled_data = scaler.fit_transform(df_encoded)\n",
    "\n",
    "# Crear un nuevo DataFrame con los valores escalados\n",
    "df_scaled = pd.DataFrame(scaled_data, columns=df_encoded.columns)"
   ]
  },
  {
   "cell_type": "markdown",
   "metadata": {},
   "source": [
    "# Clustering\n",
    "\n",
    "Tenemos un sihouette de 0,32 para dos clusters con nuestra elección. Vamos a probar aplicando encoding ordinal a las variables antes mencionadas y eliminando las variables de fecha"
   ]
  },
  {
   "cell_type": "code",
   "execution_count": null,
   "metadata": {},
   "outputs": [],
   "source": [
    "# instanciamos la clase de clustering\n",
    "df_copia = df_scaled.copy()\n",
    "modelos = s_clustering.Clustering(df_copia)\n",
    "\n",
    "# sacamos el número de clusters óptimos para hacer el Kmeans \n",
    "modelos.sacar_clusters_kmeans()"
   ]
  }
 ],
 "metadata": {
  "kernelspec": {
   "display_name": "myenv",
   "language": "python",
   "name": "python3"
  },
  "language_info": {
   "name": "python",
   "version": "3.9.20"
  }
 },
 "nbformat": 4,
 "nbformat_minor": 2
}
