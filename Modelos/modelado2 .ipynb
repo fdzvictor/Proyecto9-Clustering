{
 "cells": [
  {
   "cell_type": "code",
   "execution_count": 37,
   "metadata": {},
   "outputs": [],
   "source": [
    "import pandas as pd\n",
    "import numpy as np\n",
    "import sys\n",
    "sys.path.append(\"../\")\n",
    "from src import soporte_clustering as s_clustering, soporte_eda_y_outliers as s_eda, soporte_encoding as s_encoding, soporte_tests_y_encoding as s_tests, soporte_scaling as s_estandarizacion\n",
    "from src import soporte_ajuste_regresion as sa\n",
    "import seaborn as sns\n",
    "import matplotlib.pyplot as plt \n",
    "import math\n",
    "\n"
   ]
  },
  {
   "cell_type": "code",
   "execution_count": 38,
   "metadata": {},
   "outputs": [],
   "source": [
    "df = pd.read_pickle(\"../datos/df_elgido.pkl\")"
   ]
  },
  {
   "cell_type": "code",
   "execution_count": 39,
   "metadata": {},
   "outputs": [
    {
     "data": {
      "text/plain": [
       "array(['1', '2', '0'], dtype=object)"
      ]
     },
     "execution_count": 39,
     "metadata": {},
     "output_type": "execute_result"
    }
   ],
   "source": [
    "df[\"clusters_kmeans\"].unique()"
   ]
  },
  {
   "cell_type": "code",
   "execution_count": 40,
   "metadata": {},
   "outputs": [],
   "source": [
    "df[\"clusters_kmeans\"] = df[\"clusters_kmeans\"].astype(int)"
   ]
  },
  {
   "cell_type": "code",
   "execution_count": 41,
   "metadata": {},
   "outputs": [
    {
     "name": "stdout",
     "output_type": "stream",
     "text": [
      "Cluster 0: 46720 filas\n",
      "Cluster 1: 382 filas\n",
      "Cluster 2: 4188 filas\n"
     ]
    }
   ],
   "source": [
    "# Filtrar los datos para cada cluster\n",
    "df_cluster_0 = df[df[\"clusters_kmeans\"] == 0]\n",
    "df_cluster_1 = df[df[\"clusters_kmeans\"] == 1]\n",
    "df_cluster_2 = df[df[\"clusters_kmeans\"] == 2]\n",
    "\n",
    "# Imprimir información sobre cada cluster\n",
    "print(f\"Cluster 0: {len(df_cluster_0)} filas\")\n",
    "print(f\"Cluster 1: {len(df_cluster_1)} filas\")\n",
    "print(f\"Cluster 2: {len(df_cluster_2)} filas\")\n"
   ]
  },
  {
   "cell_type": "code",
   "execution_count": 42,
   "metadata": {},
   "outputs": [
    {
     "name": "stdout",
     "output_type": "stream",
     "text": [
      "         train      test\n",
      "R2    0.706280  0.720725\n",
      "MAE   0.279930  0.282481\n",
      "MSE   0.274820  0.278617\n",
      "RMSE  0.524233  0.527842\n",
      "          train       test\n",
      "R2     0.782434   0.641356\n",
      "MAE    2.617840   3.039093\n",
      "MSE   13.235815  17.299166\n",
      "RMSE   3.638106   4.159227\n",
      "         train      test\n",
      "R2    0.231152  0.414243\n",
      "MAE   1.635035  1.594529\n",
      "MSE   8.420787  4.913934\n",
      "RMSE  2.901859  2.216740\n"
     ]
    }
   ],
   "source": [
    "lista_dfs = [df_cluster_0,df_cluster_1,df_cluster_2]\n",
    "\n",
    "for df in lista_dfs:\n",
    "    # instanciamos la clase de regresión lineal\n",
    "    analisis = sa.AnalisisModelosRegresion(dataframe=df, variable_dependiente='Sales')\n",
    "\n",
    "    # llamamos a la función para ajustar el modelo\n",
    "    analisis.ajustar_modelo(modelo='regresion')\n",
    "\n",
    "    # llamamos al metodo para obtener los resultaods de las predicciones\n",
    "    df_resultados = analisis.calcular_metricas(modelo = \"regresion\")\n",
    "    print(df_resultados.head())"
   ]
  },
  {
   "cell_type": "code",
   "execution_count": 43,
   "metadata": {},
   "outputs": [
    {
     "name": "stdout",
     "output_type": "stream",
     "text": [
      "             train      test\n",
      "R2    1.000000e+00  0.567616\n",
      "MAE   7.651453e-08  0.268473\n",
      "MSE   1.094084e-10  0.431365\n",
      "RMSE  1.045985e-05  0.656784\n",
      "-----------\n",
      "      train       test\n",
      "R2      1.0   0.139463\n",
      "MAE     0.0   4.548767\n",
      "MSE     0.0  41.507997\n",
      "RMSE    0.0   6.442670\n",
      "-----------\n",
      "             train      test\n",
      "R2    1.000000e+00 -0.022141\n",
      "MAE   7.953837e-19  1.781077\n",
      "MSE   7.064426e-34  8.574775\n",
      "RMSE  2.657899e-17  2.928272\n",
      "-----------\n"
     ]
    }
   ],
   "source": [
    "for df in lista_dfs:\n",
    "    # instanciamos la clase de regresión lineal\n",
    "    analisis = sa.AnalisisModelosRegresion(dataframe=df, variable_dependiente='Sales')\n",
    "\n",
    "    # llamamos a la función para ajustar el modelo\n",
    "    analisis.ajustar_modelo(modelo='tree')\n",
    "\n",
    "    # llamamos al metodo para obtener los resultaods de las predicciones\n",
    "    df_resultados = analisis.calcular_metricas(modelo = \"tree\")\n",
    "    print(df_resultados.head())\n",
    "    print(\"-----------\")"
   ]
  },
  {
   "cell_type": "code",
   "execution_count": 44,
   "metadata": {},
   "outputs": [
    {
     "name": "stdout",
     "output_type": "stream",
     "text": [
      "         train      test\n",
      "R2    0.968549  0.783507\n",
      "MAE   0.071727  0.196070\n",
      "MSE   0.029427  0.215983\n",
      "RMSE  0.171543  0.464739\n",
      "-------------\n",
      "         train       test\n",
      "R2    0.962568   0.645430\n",
      "MAE   0.940788   3.019287\n",
      "MSE   2.277233  17.102692\n",
      "RMSE  1.509050   4.135540\n",
      "-------------\n",
      "         train      test\n",
      "R2    0.920339  0.580422\n",
      "MAE   0.502157  1.272995\n",
      "MSE   0.872479  3.519851\n",
      "RMSE  0.934066  1.876127\n",
      "-------------\n"
     ]
    }
   ],
   "source": [
    "for df in lista_dfs:\n",
    "    # instanciamos la clase de regresión lineal\n",
    "    analisis = sa.AnalisisModelosRegresion(dataframe=df, variable_dependiente='Sales')\n",
    "\n",
    "    # llamamos a la función para ajustar el modelo\n",
    "    analisis.ajustar_modelo(modelo='random_forest')\n",
    "\n",
    "    # llamamos al metodo para obtener los resultaods de las predicciones\n",
    "    df_resultados = analisis.calcular_metricas(modelo = \"random_forest\")\n",
    "    print(df_resultados.head())\n",
    "    print(\"-------------\")"
   ]
  },
  {
   "cell_type": "code",
   "execution_count": 45,
   "metadata": {},
   "outputs": [
    {
     "name": "stdout",
     "output_type": "stream",
     "text": [
      "         train      test\n",
      "R2    0.920339  0.580422\n",
      "MAE   0.502157  1.272995\n",
      "MSE   0.872479  3.519851\n",
      "RMSE  0.934066  1.876127\n",
      "-------------\n",
      "         train      test\n",
      "R2    0.920339  0.580422\n",
      "MAE   0.502157  1.272995\n",
      "MSE   0.872479  3.519851\n",
      "RMSE  0.934066  1.876127\n",
      "-------------\n",
      "         train      test\n",
      "R2    0.920339  0.580422\n",
      "MAE   0.502157  1.272995\n",
      "MSE   0.872479  3.519851\n",
      "RMSE  0.934066  1.876127\n",
      "-------------\n"
     ]
    }
   ],
   "source": [
    "for df in lista_dfs:\n",
    "    # instanciamos la clase de regresión lineal\n",
    "    analisis = sa.AnalisisModelosRegresion(dataframe=df, variable_dependiente='Sales')\n",
    "\n",
    "    # llamamos a la función para ajustar el modelo\n",
    "    analisis.ajustar_modelo(modelo='gradient_boosting')\n",
    "\n",
    "    # llamamos al metodo para obtener los resultaods de las predicciones\n",
    "    print(df_resultados.head())\n",
    "    print(\"-------------\")"
   ]
  },
  {
   "cell_type": "code",
   "execution_count": 46,
   "metadata": {},
   "outputs": [
    {
     "name": "stdout",
     "output_type": "stream",
     "text": [
      "         train      test\n",
      "R2    0.920339  0.580422\n",
      "MAE   0.502157  1.272995\n",
      "MSE   0.872479  3.519851\n",
      "RMSE  0.934066  1.876127\n",
      "-------------\n",
      "         train      test\n",
      "R2    0.920339  0.580422\n",
      "MAE   0.502157  1.272995\n",
      "MSE   0.872479  3.519851\n",
      "RMSE  0.934066  1.876127\n",
      "-------------\n",
      "         train      test\n",
      "R2    0.920339  0.580422\n",
      "MAE   0.502157  1.272995\n",
      "MSE   0.872479  3.519851\n",
      "RMSE  0.934066  1.876127\n",
      "-------------\n"
     ]
    }
   ],
   "source": [
    "for df in lista_dfs:\n",
    "    # instanciamos la clase de regresión lineal\n",
    "    analisis = sa.AnalisisModelosRegresion(dataframe=df, variable_dependiente='Sales')\n",
    "\n",
    "    # llamamos a la función para ajustar el modelo\n",
    "    analisis.ajustar_modelo(modelo='xgboost')\n",
    "\n",
    "    # llamamos al metodo para obtener los resultaods de las predicciones\n",
    "    print(df_resultados.head())\n",
    "    print(\"-------------\")"
   ]
  }
 ],
 "metadata": {
  "kernelspec": {
   "display_name": "myenv",
   "language": "python",
   "name": "python3"
  },
  "language_info": {
   "codemirror_mode": {
    "name": "ipython",
    "version": 3
   },
   "file_extension": ".py",
   "mimetype": "text/x-python",
   "name": "python",
   "nbconvert_exporter": "python",
   "pygments_lexer": "ipython3",
   "version": "3.9.20"
  }
 },
 "nbformat": 4,
 "nbformat_minor": 2
}
